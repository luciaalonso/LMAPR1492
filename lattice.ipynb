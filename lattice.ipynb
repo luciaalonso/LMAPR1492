{
 "cells": [
  {
   "cell_type": "code",
   "execution_count": 2,
   "metadata": {},
   "outputs": [],
   "source": [
    "from pymatgen.ext.matproj import MPRester\n",
    "from pymatgen.io.cif import CifWriter\n",
    "from IPython.display import Markdown, display\n",
    "from pymatgen.symmetry.analyzer import SpacegroupAnalyzer \n",
    "\n",
    "def printmd(string):\n",
    "    display(Markdown(string))\n",
    "\n",
    "#Télécharger le fichier CIF du matériau\n",
    "with MPRester(\"Niub9m7cC3zFHMd6\") as m:\n",
    "    structure = m.get_structure_by_material_id(\"mp-36111\")\n",
    "    w = CifWriter(structure)\n",
    "    w.write_file('mystructure.cif')\n",
    "    "
   ]
  },
  {
   "cell_type": "code",
   "execution_count": 10,
   "metadata": {},
   "outputs": [
    {
     "data": {
      "text/markdown": [
       "**Vecteurs de base du réseau direct**"
      ],
      "text/plain": [
       "<IPython.core.display.Markdown object>"
      ]
     },
     "metadata": {},
     "output_type": "display_data"
    },
    {
     "name": "stdout",
     "output_type": "stream",
     "text": [
      "0.000000 3.008190 3.008190\n",
      "3.008190 0.000000 3.008190\n",
      "3.008190 3.008190 0.000000\n",
      "Paramètres (a,b,c) des vecteurs du réseau direct: (4.254223096195121, 4.254223096195121, 4.254223096195121)\n"
     ]
    }
   ],
   "source": [
    "#Vecteurs de base du réseau direct\n",
    "printmd('**Vecteurs de base du réseau direct**')\n",
    "mesh = structure.lattice\n",
    "vect = mesh.abc\n",
    "print(mesh)\n",
    "print(\"Paramètres (a,b,c) des vecteurs du réseau direct:\", vect)"
   ]
  },
  {
   "cell_type": "code",
   "execution_count": 12,
   "metadata": {},
   "outputs": [
    {
     "data": {
      "text/markdown": [
       "**Vecteurs de base du réseau réciproque**"
      ],
      "text/plain": [
       "<IPython.core.display.Markdown object>"
      ]
     },
     "metadata": {},
     "output_type": "display_data"
    },
    {
     "name": "stdout",
     "output_type": "stream",
     "text": [
      "-1.044346 1.044346 1.044346\n",
      "1.044346 -1.044346 1.044346\n",
      "1.044346 1.044346 -1.044346\n",
      "Paramètres (a*,b*,c*) des vecteurs du réseau réciproque: (1.8088611732312962, 1.8088611732312962, 1.8088611732312962)\n"
     ]
    }
   ],
   "source": [
    "#Vecteurs de base du réseau réciproque\n",
    "printmd('**Vecteurs de base du réseau réciproque**')\n",
    "reciprocal_mesh = mesh.reciprocal_lattice\n",
    "reciprocal_vect = reciprocal_mesh.abc\n",
    "print(reciprocal_mesh)\n",
    "print(\"Paramètres (a*,b*,c*) des vecteurs du réseau réciproque:\", reciprocal_vect)\n"
   ]
  },
  {
   "cell_type": "code",
   "execution_count": 26,
   "metadata": {},
   "outputs": [
    {
     "data": {
      "text/markdown": [
       "**Type de maille**"
      ],
      "text/plain": [
       "<IPython.core.display.Markdown object>"
      ]
     },
     "metadata": {},
     "output_type": "display_data"
    },
    {
     "name": "stdout",
     "output_type": "stream",
     "text": [
      "cubic\n"
     ]
    }
   ],
   "source": [
    "#Type de maille\n",
    "printmd('**Type de maille**')\n",
    "space_group_analyzer = SpacegroupAnalyzer(structure)\n",
    "mesh_type = space_group_analyzer.get_lattice_type()\n",
    "print(mesh_type)"
   ]
  },
  {
   "cell_type": "code",
   "execution_count": 27,
   "metadata": {},
   "outputs": [
    {
     "data": {
      "text/markdown": [
       "**Système cristallin**"
      ],
      "text/plain": [
       "<IPython.core.display.Markdown object>"
      ]
     },
     "metadata": {},
     "output_type": "display_data"
    },
    {
     "name": "stdout",
     "output_type": "stream",
     "text": [
      "cubic\n"
     ]
    }
   ],
   "source": [
    "# Système cristallin\n",
    "printmd('**Système cristallin**')\n",
    "crystal_system = space_group_analyzer.get_crystal_system()\n",
    "print(crystal_system)"
   ]
  },
  {
   "cell_type": "code",
   "execution_count": 29,
   "metadata": {},
   "outputs": [
    {
     "data": {
      "text/markdown": [
       "**Groupe ponctuel**"
      ],
      "text/plain": [
       "<IPython.core.display.Markdown object>"
      ]
     },
     "metadata": {},
     "output_type": "display_data"
    },
    {
     "name": "stdout",
     "output_type": "stream",
     "text": [
      "-43m\n"
     ]
    }
   ],
   "source": [
    "# Groupe ponctuel\n",
    "printmd('**Groupe ponctuel**')\n",
    "point_group = space_group_analyzer.get_point_group_symbol()\n",
    "print(point_group)"
   ]
  },
  {
   "cell_type": "code",
   "execution_count": null,
   "metadata": {},
   "outputs": [],
   "source": []
  }
 ],
 "metadata": {
  "kernelspec": {
   "display_name": "Python 3",
   "language": "python",
   "name": "python3"
  },
  "language_info": {
   "codemirror_mode": {
    "name": "ipython",
    "version": 3
   },
   "file_extension": ".py",
   "mimetype": "text/x-python",
   "name": "python",
   "nbconvert_exporter": "python",
   "pygments_lexer": "ipython3",
   "version": "3.6.8"
  }
 },
 "nbformat": 4,
 "nbformat_minor": 2
}
