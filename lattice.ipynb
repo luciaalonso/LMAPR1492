{
 "cells": [
  {
   "cell_type": "code",
   "execution_count": 6,
   "metadata": {},
   "outputs": [
    {
     "data": {
      "text/markdown": [
       "**Coordonnées des vecteurs de base du réseau direct** \n"
      ],
      "text/plain": [
       "<IPython.core.display.Markdown object>"
      ]
     },
     "metadata": {},
     "output_type": "display_data"
    },
    {
     "name": "stdout",
     "output_type": "stream",
     "text": [
      "0.000000 3.008190 3.008190\n",
      "3.008190 0.000000 3.008190\n",
      "3.008190 3.008190 0.000000\n",
      "\n"
     ]
    }
   ],
   "source": [
    "from pymatgen.ext.matproj import MPRester\n",
    "from pymatgen.entries.compatibility import MaterialsProjectCompatibility\n",
    "from pymatgen.io.cif import CifWriter\n",
    "with MPRester(\"Niub9m7cC3zFHMd6\") as m:\n",
    "    # Structure for material id\n",
    "    structure = m.get_structure_by_material_id(\"mp-36111\")\n",
    "    w = CifWriter(structure,0.1)\n",
    "    w.write_file('mp-36111.cif')\n",
    "    \n",
    "from IPython.display import Markdown, display\n",
    "def printmd(string):\n",
    "    display(Markdown(string))\n",
    "\n",
    "from pymatgen.symmetry.analyzer import SpacegroupAnalyzer\n",
    "\n",
    "new_s=SpacegroupAnalyzer(structure).get_conventional_standard_structure()\n",
    "\n",
    "printmd('**Coordonnées des vecteurs de base du réseau direct** \\n')\n",
    "from pymatgen.core.lattice import Lattice\n",
    "vect = structure.lattice\n",
    "print(vect)\n",
    "print(\"\")\n",
    "\n"
   ]
  },
  {
   "cell_type": "code",
   "execution_count": 7,
   "metadata": {},
   "outputs": [
    {
     "data": {
      "text/markdown": [
       "**Coordonnées des vecteurs de base du réseau réciproque** \n"
      ],
      "text/plain": [
       "<IPython.core.display.Markdown object>"
      ]
     },
     "metadata": {},
     "output_type": "display_data"
    },
    {
     "name": "stdout",
     "output_type": "stream",
     "text": [
      "-1.044346 1.044346 1.044346\n",
      "1.044346 -1.044346 1.044346\n",
      "1.044346 1.044346 -1.044346\n",
      "\n"
     ]
    }
   ],
   "source": [
    "printmd('**Coordonnées des vecteurs de base du réseau réciproque** \\n')\n",
    "reciproque = vect.reciprocal_lattice\n",
    "print(reciproque)\n",
    "print(\"\")"
   ]
  },
  {
   "cell_type": "code",
   "execution_count": 12,
   "metadata": {},
   "outputs": [
    {
     "data": {
      "text/markdown": [
       "**Type de maille** \n"
      ],
      "text/plain": [
       "<IPython.core.display.Markdown object>"
      ]
     },
     "metadata": {},
     "output_type": "display_data"
    },
    {
     "name": "stdout",
     "output_type": "stream",
     "text": [
      "cubic\n",
      "\n"
     ]
    }
   ],
   "source": [
    "printmd('**Type de maille** \\n')\n",
    "type_maille = SpacegroupAnalyzer(new_s).get_lattice_type()\n",
    "print(type_maille)\n",
    "print(\"\")"
   ]
  },
  {
   "cell_type": "code",
   "execution_count": 9,
   "metadata": {},
   "outputs": [
    {
     "data": {
      "text/markdown": [
       "**Système cristallin** \n"
      ],
      "text/plain": [
       "<IPython.core.display.Markdown object>"
      ]
     },
     "metadata": {},
     "output_type": "display_data"
    },
    {
     "name": "stdout",
     "output_type": "stream",
     "text": [
      "cubic\n",
      "\n"
     ]
    }
   ],
   "source": [
    "printmd('**Système cristallin** \\n')\n",
    "from pymatgen.symmetry.analyzer import PointGroupAnalyzer\n",
    "system = SpacegroupAnalyzer(new_s).get_crystal_system()\n",
    "print(system)\n",
    "print(\"\")"
   ]
  },
  {
   "cell_type": "code",
   "execution_count": 13,
   "metadata": {},
   "outputs": [
    {
     "data": {
      "text/markdown": [
       "**Groupe ponctuel** \n"
      ],
      "text/plain": [
       "<IPython.core.display.Markdown object>"
      ]
     },
     "metadata": {},
     "output_type": "display_data"
    },
    {
     "name": "stdout",
     "output_type": "stream",
     "text": [
      "-43m\n",
      "\n"
     ]
    }
   ],
   "source": [
    "printmd('**Groupe ponctuel** \\n')\n",
    "group_ponct = SpacegroupAnalyzer(new_s).get_point_group_symbol()\n",
    "print(group_ponct)\n",
    "print(\"\")"
   ]
  },
  {
   "cell_type": "code",
   "execution_count": null,
   "metadata": {},
   "outputs": [],
   "source": []
  }
 ],
 "metadata": {
  "kernelspec": {
   "display_name": "Python 3",
   "language": "python",
   "name": "python3"
  },
  "language_info": {
   "codemirror_mode": {
    "name": "ipython",
    "version": 3
   },
   "file_extension": ".py",
   "mimetype": "text/x-python",
   "name": "python",
   "nbconvert_exporter": "python",
   "pygments_lexer": "ipython3",
   "version": "3.6.8"
  }
 },
 "nbformat": 4,
 "nbformat_minor": 2
}
