{
 "cells": [
  {
   "cell_type": "code",
   "execution_count": 4,
   "metadata": {},
   "outputs": [],
   "source": [
    "from pymatgen.ext.matproj import MPRester\n",
    "from pymatgen.io.cif import CifWriter\n",
    "from IPython.display import Image\n",
    "from pymatgen.core.lattice import Lattice\n",
    "from pymatgen.symmetry.analyzer import SpacegroupAnalyzer\n",
    "from pymatgen.core.operations import SymmOp\n",
    "from IPython.display import Markdown,display\n",
    "\n",
    "def printmd(string):\n",
    "    display(Markdown(string))\n",
    "    \n",
    "with MPRester(\"Niub9m7cC3zFHMd6\") as m:\n",
    "    structure = m.get_structure_by_material_id(\"mp-36111\")\n",
    "    w = CifWriter(structure)\n",
    "    w.write_file('mystructure.cif')\n",
    "    "
   ]
  },
  {
   "cell_type": "code",
   "execution_count": 5,
   "metadata": {},
   "outputs": [
    {
     "name": "stdout",
     "output_type": "stream",
     "text": [
      "La molecule avec laquelle on va travailler est la suivante:\n"
     ]
    },
    {
     "data": {
      "text/html": [
       "<img src=\"molecule.png\"/>"
      ],
      "text/plain": [
       "<IPython.core.display.Image object>"
      ]
     },
     "execution_count": 5,
     "metadata": {},
     "output_type": "execute_result"
    }
   ],
   "source": [
    "print ('La molecule avec laquelle on va travailler est la suivante:')\n",
    "img = 'molecule.png'\n",
    "Image(url=img)"
   ]
  },
  {
   "cell_type": "code",
   "execution_count": 8,
   "metadata": {},
   "outputs": [
    {
     "name": "stdout",
     "output_type": "stream",
     "text": [
      "Maintenant, on va analyser trois élements de symétrie differents, et étudier leur effet.\n",
      "On va faire cet étude en analysant chaque élement de symétrie pour un atome différent.\n"
     ]
    },
    {
     "data": {
      "text/markdown": [
       "**RÉFLEXION PAR RAPPORT À UN PLAN MIROIR.**"
      ],
      "text/plain": [
       "<IPython.core.display.Markdown object>"
      ]
     },
     "metadata": {},
     "output_type": "display_data"
    },
    {
     "name": "stdout",
     "output_type": "stream",
     "text": [
      "Cette opération envoie tout atome situé dans la position (x,y,z) à la position (-y,-x,z)\n",
      "La matrice associée est la suivante:\n",
      "[[ 0. -1.  0.]\n",
      " [-1.  0.  0.]\n",
      " [ 0.  0.  1.]]\n",
      "On obtient, en multipliant cette matrice par le vecteur colonne (x,y,z):\n"
     ]
    },
    {
     "data": {
      "text/html": [
       "<img src=\"matrice1.png\"/>"
      ],
      "text/plain": [
       "<IPython.core.display.Image object>"
      ]
     },
     "execution_count": 8,
     "metadata": {},
     "output_type": "execute_result"
    }
   ],
   "source": [
    "print ('Maintenant, on va analyser trois élements de symétrie differents, et étudier leur effet.')\n",
    "print('On va faire cet étude en analysant chaque élement de symétrie pour un atome différent.')\n",
    "printmd('**RÉFLEXION PAR RAPPORT À UN PLAN MIROIR.**')\n",
    "print('Cette opération envoie tout atome situé dans la position (x,y,z) à la position (-y,-x,z)')\n",
    "print('La matrice associée est la suivante:')\n",
    "miroir = SymmOp.from_xyz_string('-y, -x, z')\n",
    "print(miroir.rotation_matrix)\n",
    "print('On obtient, en multipliant cette matrice par le vecteur colonne (x,y,z):')\n",
    "img = 'matrice1.png'\n",
    "Image(url=img)\n"
   ]
  },
  {
   "cell_type": "code",
   "execution_count": 9,
   "metadata": {},
   "outputs": [
    {
     "name": "stdout",
     "output_type": "stream",
     "text": [
      "Si on applique cette opération à un atome de Mg situé dans la position (0.25,0.75,0.75), on obtient une position avec\n",
      "les coordonnées:\n",
      "[-0.75 -0.25  0.75]\n"
     ]
    },
    {
     "data": {
      "text/html": [
       "<img src=\"planmiroir.png\"/>"
      ],
      "text/plain": [
       "<IPython.core.display.Image object>"
      ]
     },
     "execution_count": 9,
     "metadata": {},
     "output_type": "execute_result"
    }
   ],
   "source": [
    "print('Si on applique cette opération à un atome de Mg situé dans la position (0.25,0.75,0.75), on obtient une position avec')\n",
    "print('les coordonnées:')\n",
    "print(miroir.operate((0.25, 0.75, 0.75)))\n",
    "img = 'planmiroir.png'\n",
    "Image(url=img)"
   ]
  },
  {
   "cell_type": "code",
   "execution_count": 15,
   "metadata": {},
   "outputs": [
    {
     "data": {
      "text/markdown": [
       "**ROTATION D ORDRE 3.**"
      ],
      "text/plain": [
       "<IPython.core.display.Markdown object>"
      ]
     },
     "metadata": {},
     "output_type": "display_data"
    },
    {
     "name": "stdout",
     "output_type": "stream",
     "text": [
      "Cette opération envoie tout atome situé dans la position (x,y,z) à la position (z,-x,-y)\n",
      "La matrice associée est la suivante:\n",
      "[[ 0.  0.  1.]\n",
      " [-1.  0.  0.]\n",
      " [ 0. -1.  0.]]\n",
      "On obtient, en multipliant cette matrice par le vecteur colonne (x,y,z):\n"
     ]
    },
    {
     "data": {
      "text/html": [
       "<img src=\"matrice2.png\"/>"
      ],
      "text/plain": [
       "<IPython.core.display.Image object>"
      ]
     },
     "execution_count": 15,
     "metadata": {},
     "output_type": "execute_result"
    }
   ],
   "source": [
    "printmd('**ROTATION D ORDRE 3.**')\n",
    "print('Cette opération envoie tout atome situé dans la position (x,y,z) à la position (z,-x,-y)')\n",
    "print('La matrice associée est la suivante:')\n",
    "rotation = SymmOp.from_xyz_string('z,-x,-y')\n",
    "print(rotation.rotation_matrix)\n",
    "print('On obtient, en multipliant cette matrice par le vecteur colonne (x,y,z):')\n",
    "img = 'matrice2.png'\n",
    "Image(url=img)"
   ]
  },
  {
   "cell_type": "code",
   "execution_count": 18,
   "metadata": {},
   "outputs": [
    {
     "name": "stdout",
     "output_type": "stream",
     "text": [
      "Si on applique cette opération à un atome de Li situé dans la position (0.25,0.75,0.25), on obtient une position avec\n",
      "les coordonnées:\n",
      "[ 0.25 -0.25 -0.75]\n"
     ]
    },
    {
     "data": {
      "text/html": [
       "<img src=\"rotation.png\"/>"
      ],
      "text/plain": [
       "<IPython.core.display.Image object>"
      ]
     },
     "execution_count": 18,
     "metadata": {},
     "output_type": "execute_result"
    }
   ],
   "source": [
    "print('Si on applique cette opération à un atome de Li situé dans la position (0.25,0.75,0.25), on obtient une position avec')\n",
    "print('les coordonnées:')\n",
    "print(rotation.operate((0.25, 0.75, 0.25)))\n",
    "img = 'rotation.png'\n",
    "Image(url=img)"
   ]
  },
  {
   "cell_type": "code",
   "execution_count": 26,
   "metadata": {},
   "outputs": [
    {
     "data": {
      "text/markdown": [
       "**TRANSLATION.**"
      ],
      "text/plain": [
       "<IPython.core.display.Markdown object>"
      ]
     },
     "metadata": {},
     "output_type": "display_data"
    },
    {
     "name": "stdout",
     "output_type": "stream",
     "text": [
      "Cette opération envoie tout atome situé dans la position (x,y,z) à la position (x+1/2,y+1/2,z)\n",
      "La matrice associée est la suivante:\n",
      "[[1. 0. 0.]\n",
      " [0. 1. 0.]\n",
      " [0. 0. 1.]]\n",
      "Cette matrice doit être multipliée par le vecteur colonne (x, y, z) et on doit y ajouter les éléments de translation.\n",
      "On obtient:\n"
     ]
    },
    {
     "data": {
      "text/html": [
       "<img src=\"matrice3.png\"/>"
      ],
      "text/plain": [
       "<IPython.core.display.Image object>"
      ]
     },
     "execution_count": 26,
     "metadata": {},
     "output_type": "execute_result"
    }
   ],
   "source": [
    "printmd('**TRANSLATION.**')\n",
    "print('Cette opération envoie tout atome situé dans la position (x,y,z) à la position (x+1/2,y+1/2,z)')\n",
    "print('La matrice associée est la suivante:')\n",
    "translation = SymmOp.from_xyz_string('x+1/2, y+1/2, z')\n",
    "(print(translation.rotation_matrix))\n",
    "print('Cette matrice doit être multipliée par le vecteur colonne (x, y, z) et on doit y ajouter les éléments de translation.')\n",
    "print('On obtient:')\n",
    "img = 'matrice3.png'\n",
    "Image(url=img)"
   ]
  },
  {
   "cell_type": "code",
   "execution_count": 28,
   "metadata": {},
   "outputs": [
    {
     "name": "stdout",
     "output_type": "stream",
     "text": [
      "Si on applique cette opération à un atome de P situé dans la position (0.5,0.5,0.0), on obtient une position avec\n",
      "les coordonnées:\n",
      "[1. 1. 0.]\n"
     ]
    },
    {
     "data": {
      "text/html": [
       "<img src=\"translation.png\"/>"
      ],
      "text/plain": [
       "<IPython.core.display.Image object>"
      ]
     },
     "execution_count": 28,
     "metadata": {},
     "output_type": "execute_result"
    }
   ],
   "source": [
    "print('Si on applique cette opération à un atome de P situé dans la position (0.5,0.5,0.0), on obtient une position avec')\n",
    "print('les coordonnées:')\n",
    "print(translation.operate((0.5, 0.5, 0.0)))\n",
    "img = 'translation.png'\n",
    "Image(url=img)"
   ]
  }
 ],
 "metadata": {
  "kernelspec": {
   "display_name": "Python 3",
   "language": "python",
   "name": "python3"
  },
  "language_info": {
   "codemirror_mode": {
    "name": "ipython",
    "version": 3
   },
   "file_extension": ".py",
   "mimetype": "text/x-python",
   "name": "python",
   "nbconvert_exporter": "python",
   "pygments_lexer": "ipython3",
   "version": "3.6.8"
  }
 },
 "nbformat": 4,
 "nbformat_minor": 2
}
